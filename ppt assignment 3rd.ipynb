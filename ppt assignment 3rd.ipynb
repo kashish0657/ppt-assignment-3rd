{
 "cells": [
  {
   "cell_type": "markdown",
   "id": "961715a8-12c1-4acd-b398-020732565fec",
   "metadata": {},
   "source": [
    "## ppt assignment 3rd"
   ]
  },
  {
   "cell_type": "markdown",
   "id": "0696e8a9-c0bc-4fb7-970e-45407b161039",
   "metadata": {},
   "source": [
    "## 1:ans:-"
   ]
  },
  {
   "cell_type": "code",
   "execution_count": 1,
   "id": "f939c213-5ed4-4d2e-be14-86cd6548534d",
   "metadata": {},
   "outputs": [],
   "source": [
    "def threeSumClosest(nums, target):\n",
    "    nums.sort()  # Sort the array in ascending order\n",
    "    n = len(nums)\n",
    "    closest_sum = float('inf')  # Initialize closest_sum with positive infinity\n",
    "\n",
    "    for i in range(n - 2):\n",
    "        left = i + 1  # Left pointer\n",
    "        right = n - 1  # Right pointer\n",
    "\n",
    "        while left < right:\n",
    "            current_sum = nums[i] + nums[left] + nums[right]\n",
    "            if current_sum == target:\n",
    "                return current_sum  # If the sum is equal to the target, return it\n",
    "\n",
    "            # Update the closest_sum if the current sum is closer to the target\n",
    "            if abs(current_sum - target) < abs(closest_sum - target):\n",
    "                closest_sum = current_sum\n",
    "\n",
    "            if current_sum < target:\n",
    "                left += 1  # Increment the left pointer if the sum is smaller than the target\n",
    "            else:\n",
    "                right -= 1  # Decrement the right pointer if the sum is greater than the target\n",
    "\n",
    "    return closest_sum\n"
   ]
  },
  {
   "cell_type": "code",
   "execution_count": 2,
   "id": "d5945e5f-ee67-466e-be06-5ec0b361f330",
   "metadata": {},
   "outputs": [
    {
     "name": "stdout",
     "output_type": "stream",
     "text": [
      "2\n"
     ]
    }
   ],
   "source": [
    "nums = [-1, 2, 1, -4]\n",
    "target = 1\n",
    "result = threeSumClosest(nums, target)\n",
    "print(result) \n"
   ]
  },
  {
   "cell_type": "markdown",
   "id": "29631b85-5f41-4796-906e-ae2718e333f3",
   "metadata": {},
   "source": [
    "## 2:ans:-"
   ]
  },
  {
   "cell_type": "code",
   "execution_count": 3,
   "id": "95e383bf-c2b3-4ef0-b1de-fda941e88956",
   "metadata": {},
   "outputs": [],
   "source": [
    "def fourSum(nums, target):\n",
    "    nums.sort()\n",
    "    quadruplets = []\n",
    "    n = len(nums)\n",
    "\n",
    "    for a in range(n - 3):\n",
    "        # Skip duplicates for the first number\n",
    "        if a > 0 and nums[a] == nums[a - 1]:\n",
    "            continue\n",
    "\n",
    "        for b in range(a + 1, n - 2):\n",
    "            # Skip duplicates for the second number\n",
    "            if b > a + 1 and nums[b] == nums[b - 1]:\n",
    "                continue\n",
    "\n",
    "            # Two pointers approach\n",
    "            c = b + 1\n",
    "            d = n - 1\n",
    "\n",
    "            while c < d:\n",
    "                current_sum = nums[a] + nums[b] + nums[c] + nums[d]\n",
    "\n",
    "                if current_sum == target:\n",
    "                    quadruplets.append([nums[a], nums[b], nums[c], nums[d]])\n",
    "                    c += 1\n",
    "                    d -= 1\n",
    "\n",
    "                    # Skip duplicates for the third number\n",
    "                    while c < d and nums[c] == nums[c - 1]:\n",
    "                        c += 1\n",
    "\n",
    "                    # Skip duplicates for the fourth number\n",
    "                    while c < d and nums[d] == nums[d + 1]:\n",
    "                        d -= 1\n",
    "\n",
    "                elif current_sum < target:\n",
    "                    c += 1\n",
    "                else:\n",
    "                    d -= 1\n",
    "\n",
    "    return quadruplets\n"
   ]
  },
  {
   "cell_type": "markdown",
   "id": "5e72a08f-1aca-4bbf-9e2c-1480dda15061",
   "metadata": {},
   "source": [
    "## 3:ans:-"
   ]
  },
  {
   "cell_type": "code",
   "execution_count": 4,
   "id": "10acc550-2c52-47ff-884b-17db5c62a576",
   "metadata": {},
   "outputs": [],
   "source": [
    "def nextPermutation(nums):\n",
    "    # Step 1: Find the first decreasing element from the right\n",
    "    i = len(nums) - 2\n",
    "    while i >= 0 and nums[i] >= nums[i + 1]:\n",
    "        i -= 1\n",
    "    \n",
    "    if i >= 0:\n",
    "        # Step 2: Find the smallest element greater than nums[i]\n",
    "        j = len(nums) - 1\n",
    "        while nums[j] <= nums[i]:\n",
    "            j -= 1\n",
    "        # Step 3: Swap nums[i] and nums[j]\n",
    "        nums[i], nums[j] = nums[j], nums[i]\n",
    "    \n",
    "    # Step 4: Reverse the remaining elements\n",
    "    left = i + 1\n",
    "    right = len(nums) - 1\n",
    "    while left < right:\n",
    "        nums[left], nums[right] = nums[right], nums[left]\n",
    "        left += 1\n",
    "        right -= 1\n"
   ]
  },
  {
   "cell_type": "markdown",
   "id": "e9ebb6cf-30e7-46e7-bc68-a6f9d1d46782",
   "metadata": {},
   "source": [
    "## 4:ans:-"
   ]
  },
  {
   "cell_type": "code",
   "execution_count": 5,
   "id": "d985188d-942c-4e78-a437-c7c6c3d6a277",
   "metadata": {},
   "outputs": [],
   "source": [
    "def search_insert(nums, target):\n",
    "    left = 0\n",
    "    right = len(nums) - 1\n",
    "\n",
    "    while left <= right:\n",
    "        mid = (left + right) // 2\n",
    "\n",
    "        if nums[mid] == target:\n",
    "            return mid\n",
    "        elif nums[mid] < target:\n",
    "            left = mid + 1\n",
    "        else:\n",
    "            right = mid - 1\n",
    "\n",
    "    return left\n"
   ]
  },
  {
   "cell_type": "code",
   "execution_count": null,
   "id": "2bec56ef-1972-43a1-be35-9e0246100b7f",
   "metadata": {},
   "outputs": [],
   "source": [
    "Let's break down the algorithm:\n",
    "\n",
    "We initialize two pointers, left and right, pointing to the start and end of the array, respectively.\n",
    "\n",
    "We enter a while loop that continues as long as left is less than or equal to right.\n",
    "\n",
    "Inside the loop, we calculate the middle index, mid, using integer division.\n",
    "\n",
    "We compare the value at the middle index, nums[mid], with the target value:\n",
    "\n",
    "If they are equal, we have found the target value, so we return the middle index.\n",
    "\n",
    "If nums[mid] is less than the target, the target should be on the right side of mid, so we update left to mid + 1.\n",
    "\n",
    "If nums[mid] is greater than the target, the target should be on the left side of mid, so we update right to mid - 1.\n",
    "\n",
    "If the while loop exits without finding the target value, we return the value of left, which represents the index\n",
    "where the target would be inserted to maintain the sorted order.\n",
    "\n",
    "This algorithm divides the search space in half at each iteration, resulting in a runtime complexity of O(log n).\n"
   ]
  },
  {
   "cell_type": "markdown",
   "id": "da4d7561-9917-47e5-b370-3d21b63353d9",
   "metadata": {},
   "source": [
    "## 5:ans:-"
   ]
  },
  {
   "cell_type": "code",
   "execution_count": 6,
   "id": "a2a7c224-1add-4f19-8d7a-8360ef9c3f46",
   "metadata": {},
   "outputs": [],
   "source": [
    "def increment_large_integer(digits):\n",
    "    n = len(digits)\n",
    "    carry = 1\n",
    "    for i in range(n - 1, -1, -1):\n",
    "        digit_sum = digits[i] + carry\n",
    "        digits[i] = digit_sum % 10\n",
    "        carry = digit_sum // 10\n",
    "\n",
    "    if carry > 0:\n",
    "        digits.insert(0, carry)\n",
    "\n",
    "    return digits\n"
   ]
  },
  {
   "cell_type": "markdown",
   "id": "256dae87-103a-41c2-bc1b-60e87f8154ab",
   "metadata": {},
   "source": [
    "## 6:ans:-"
   ]
  },
  {
   "cell_type": "code",
   "execution_count": 7,
   "id": "52d8047b-32f0-4bd0-8a68-f1eebe619c17",
   "metadata": {},
   "outputs": [],
   "source": [
    "def findSingleNumber(nums):\n",
    "    result = 0\n",
    "    for num in nums:\n",
    "        result ^= num\n",
    "    return result\n"
   ]
  },
  {
   "cell_type": "markdown",
   "id": "2340a27a-bf75-437f-9b74-30b8471b9eb1",
   "metadata": {},
   "source": [
    "## 7:ans:-"
   ]
  },
  {
   "cell_type": "code",
   "execution_count": 8,
   "id": "f2fbe187-63ff-415f-8b1f-1bf2a06afebb",
   "metadata": {},
   "outputs": [
    {
     "name": "stdout",
     "output_type": "stream",
     "text": [
      "['2', '4->49', '51->74', '76->99']\n"
     ]
    }
   ],
   "source": [
    "def findMissingRanges(nums, lower, upper):\n",
    "    missing_ranges = []\n",
    "    prev = lower - 1  # Set the previous number to a value before the lower bound\n",
    "\n",
    "    for num in nums + [upper + 1]:\n",
    "        if num - prev > 1:\n",
    "            missing_ranges.append(getRange(prev + 1, num - 1))\n",
    "        prev = num\n",
    "\n",
    "    return missing_ranges\n",
    "\n",
    "\n",
    "def getRange(start, end):\n",
    "    if start == end:\n",
    "        return str(start)\n",
    "    else:\n",
    "        return str(start) + \"->\" + str(end)\n",
    "\n",
    "\n",
    "# Example usage:\n",
    "nums = [0, 1, 3, 50, 75]\n",
    "lower = 0\n",
    "upper = 99\n",
    "print(findMissingRanges(nums, lower, upper))\n"
   ]
  },
  {
   "cell_type": "markdown",
   "id": "fba094fe-3fbc-4f11-8fa7-0a1d2e428c62",
   "metadata": {},
   "source": [
    "## 8:ans:-"
   ]
  },
  {
   "cell_type": "code",
   "execution_count": 9,
   "id": "96a016be-7e8e-48c0-9931-837643f62732",
   "metadata": {},
   "outputs": [],
   "source": [
    "def can_attend_meetings(intervals):\n",
    "    intervals.sort(key=lambda x: x[0])  # Sort intervals based on start time\n",
    "    \n",
    "    for i in range(1, len(intervals)):\n",
    "        if intervals[i][0] < intervals[i-1][1]:\n",
    "            return False\n",
    "    \n",
    "    return True\n"
   ]
  },
  {
   "cell_type": "code",
   "execution_count": 10,
   "id": "1866c227-20e6-4653-a320-0d133ed960cd",
   "metadata": {},
   "outputs": [
    {
     "name": "stdout",
     "output_type": "stream",
     "text": [
      "False\n",
      "True\n"
     ]
    }
   ],
   "source": [
    "meetings = [[1, 4], [2, 5], [7, 9]]\n",
    "print(can_attend_meetings(meetings))  \n",
    "\n",
    "meetings = [[1, 3], [4, 6], [7, 9]]\n",
    "print(can_attend_meetings(meetings))  \n"
   ]
  },
  {
   "cell_type": "code",
   "execution_count": null,
   "id": "085c9390-4e3e-45dd-b395-05d667bc8fd2",
   "metadata": {},
   "outputs": [],
   "source": []
  },
  {
   "cell_type": "code",
   "execution_count": null,
   "id": "910a9871-bcb1-4c02-8c3f-440643a09304",
   "metadata": {},
   "outputs": [],
   "source": []
  },
  {
   "cell_type": "code",
   "execution_count": null,
   "id": "9e40d942-876a-41a7-9cdf-82e5f5310ebe",
   "metadata": {},
   "outputs": [],
   "source": []
  }
 ],
 "metadata": {
  "kernelspec": {
   "display_name": "Python 3 (ipykernel)",
   "language": "python",
   "name": "python3"
  },
  "language_info": {
   "codemirror_mode": {
    "name": "ipython",
    "version": 3
   },
   "file_extension": ".py",
   "mimetype": "text/x-python",
   "name": "python",
   "nbconvert_exporter": "python",
   "pygments_lexer": "ipython3",
   "version": "3.10.8"
  }
 },
 "nbformat": 4,
 "nbformat_minor": 5
}
